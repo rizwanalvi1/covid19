{
  "nbformat": 4,
  "nbformat_minor": 0,
  "metadata": {
    "kernelspec": {
      "display_name": "Python 3",
      "language": "python",
      "name": "python3"
    },
    "language_info": {
      "codemirror_mode": {
        "name": "ipython",
        "version": 3
      },
      "file_extension": ".py",
      "mimetype": "text/x-python",
      "name": "python",
      "nbconvert_exporter": "python",
      "pygments_lexer": "ipython3",
      "version": "3.6.8"
    },
    "toc": {
      "base_numbering": 1,
      "nav_menu": {},
      "number_sections": true,
      "sideBar": true,
      "skip_h1_title": false,
      "title_cell": "Table of Contents",
      "title_sidebar": "Contents",
      "toc_cell": false,
      "toc_position": {},
      "toc_section_display": true,
      "toc_window_display": false
    },
    "colab": {
      "name": "Disease modeling in Python.ipynb",
      "provenance": [],
      "include_colab_link": true
    }
  },
  "cells": [
    {
      "cell_type": "markdown",
      "metadata": {
        "id": "view-in-github",
        "colab_type": "text"
      },
      "source": [
        "<a href=\"https://colab.research.google.com/github/rizwanalvi1/covid19/blob/master/Disease_modeling_in_Python.ipynb\" target=\"_parent\"><img src=\"https://colab.research.google.com/assets/colab-badge.svg\" alt=\"Open In Colab\"/></a>"
      ]
    },
    {
      "cell_type": "markdown",
      "metadata": {
        "id": "jmrzU8gbGBKZ",
        "colab_type": "text"
      },
      "source": [
        "# Simple SIR modeling with Python\n",
        "\n",
        "Watch the videos first!!!\n",
        "\n",
        "Readings for before or after:\n",
        "\n",
        "* [All models are wrong, but some are completely wrong](https://rssdss.design.blog/2020/03/31/all-models-are-wrong-but-some-are-completely-wrong/)\n",
        "* [Don’t Believe the COVID-19 Models](https://www.theatlantic.com/technology/archive/2020/04/coronavirus-models-arent-supposed-be-right/609271/)\n",
        "* [https://fivethirtyeight.com/features/why-its-so-freaking-hard-to-make-a-good-covid-19-model/](https://fivethirtyeight.com/features/why-its-so-freaking-hard-to-make-a-good-covid-19-model/)"
      ]
    },
    {
      "cell_type": "code",
      "metadata": {
        "id": "BRr8EMnbGBKb",
        "colab_type": "code",
        "colab": {}
      },
      "source": [
        "import pandas as pd\n",
        "import numpy as np\n",
        "from scipy.integrate import odeint\n",
        "import matplotlib.pyplot as plt"
      ],
      "execution_count": 0,
      "outputs": []
    },
    {
      "cell_type": "markdown",
      "metadata": {
        "id": "48pd0S0qGBKe",
        "colab_type": "text"
      },
      "source": [
        "We'll need to use **differential equations** to calculate the population change over time. Luckily we can just [borrow this code](https://scipython.com/book/chapter-8-scipy/additional-examples/the-sir-epidemic-model/) and we'll be good!\n",
        "\n",
        "> To understand this code, I recommend watching https://youtu.be/NKMHhm2Zbkw?t=119 - the timestamp I linked you to is where he starts walking through the equations below"
      ]
    },
    {
      "cell_type": "code",
      "metadata": {
        "id": "3NdX8UYxGBKf",
        "colab_type": "code",
        "colab": {}
      },
      "source": [
        "# The SIR model differential equations.\n",
        "def deriv(state, t, N, beta, gamma):\n",
        "    S, I, R = state\n",
        "    # Change in S population over time\n",
        "    dSdt = -beta * S * I / N\n",
        "    # Change in I population over time\n",
        "    dIdt = beta * S * I / N - gamma * I\n",
        "    # Change in R population over time\n",
        "    dRdt = gamma * I\n",
        "    return dSdt, dIdt, dRdt"
      ],
      "execution_count": 0,
      "outputs": []
    },
    {
      "cell_type": "markdown",
      "metadata": {
        "id": "f-B82EzJGBKh",
        "colab_type": "text"
      },
      "source": [
        "We'll start by modeling our population. Having a thousand people and one infected person sounds reasonable.\n",
        "\n",
        "**Effective contact rate** is `transmission rate * contact rate`, so:\n",
        "\n",
        "* For example, 5% transmission rate and 5 contacts a day is `0.05 * 5 = 0.25`\n",
        "\n",
        "**Recovery rate** is `1 / days`, so \n",
        "\n",
        "* For example, 4 day recovery rate is `1 / 4 = 0.25`"
      ]
    },
    {
      "cell_type": "code",
      "metadata": {
        "id": "5z7TKbLPGBKi",
        "colab_type": "code",
        "outputId": "7079cc48-45c5-421f-9d87-fbb661522c50",
        "colab": {}
      },
      "source": [
        "effective_contact_rate = 0.5\n",
        "recovery_rate = 1/4\n",
        "\n",
        "# We'll compute this for fun\n",
        "print(\"R0 is\", effective_contact_rate / recovery_rate)\n",
        "\n",
        "# What's our start population look like?\n",
        "# Everyone not infected or recovered is susceptible\n",
        "total_pop = 1000\n",
        "recovered = 0\n",
        "infected = 1\n",
        "susceptible = total_pop - infected - recovered\n",
        "\n",
        "# A list of days, 0-160\n",
        "days = range(0, 160)\n",
        "\n",
        "# Use differential equations magic with our population\n",
        "ret = odeint(deriv,\n",
        "             [susceptible, infected, recovered],\n",
        "             days,\n",
        "             args=(total_pop, effective_contact_rate, recovery_rate))\n",
        "S, I, R = ret.T\n",
        "\n",
        "# Build a dataframe because why not\n",
        "df = pd.DataFrame({\n",
        "    'suseptible': S,\n",
        "    'infected': I,\n",
        "    'recovered': R,\n",
        "    'day': days\n",
        "})\n",
        "\n",
        "plt.style.use('ggplot')\n",
        "df.plot(x='day',\n",
        "        y=['infected', 'suseptible', 'recovered'],\n",
        "        color=['#bb6424', '#aac6ca', '#cc8ac0'],\n",
        "        kind='area',\n",
        "        stacked=True)\n",
        "\n",
        "# If you get the error:\n",
        "#\n",
        "#     When stacked is True, each column must be either all\n",
        "#     positive or negative.infected contains both...\n",
        "#\n",
        "# just change stacked=True to stacked=False"
      ],
      "execution_count": 0,
      "outputs": [
        {
          "output_type": "stream",
          "text": [
            "R0 is 2.0\n"
          ],
          "name": "stdout"
        },
        {
          "output_type": "execute_result",
          "data": {
            "text/plain": [
              "<matplotlib.axes._subplots.AxesSubplot at 0x1326932e8>"
            ]
          },
          "metadata": {
            "tags": []
          },
          "execution_count": 268
        },
        {
          "output_type": "display_data",
          "data": {
            "image/png": "[encoded data removed]",
            "text/plain": [
              "<Figure size 432x288 with 1 Axes>"
            ]
          },
          "metadata": {
            "tags": []
          }
        }
      ]
    },
    {
      "cell_type": "code",
      "metadata": {
        "id": "muO_Bk7aGBKm",
        "colab_type": "code",
        "outputId": "b42edcb5-f4e1-4f53-c7b1-8c0cefb18f8a",
        "colab": {}
      },
      "source": [
        "df"
      ],
      "execution_count": 0,
      "outputs": [
        {
          "output_type": "execute_result",
          "data": {
            "text/html": [
              "<div>\n",
              "<style scoped>\n",
              "    .dataframe tbody tr th:only-of-type {\n",
              "        vertical-align: middle;\n",
              "    }\n",
              "\n",
              "    .dataframe tbody tr th {\n",
              "        vertical-align: top;\n",
              "    }\n",
              "\n",
              "    .dataframe thead th {\n",
              "        text-align: right;\n",
              "    }\n",
              "</style>\n",
              "<table border=\"1\" class=\"dataframe\">\n",
              "  <thead>\n",
              "    <tr style=\"text-align: right;\">\n",
              "      <th></th>\n",
              "      <th>suseptible</th>\n",
              "      <th>infected</th>\n",
              "      <th>recovered</th>\n",
              "      <th>day</th>\n",
              "    </tr>\n",
              "  </thead>\n",
              "  <tbody>\n",
              "    <tr>\n",
              "      <th>0</th>\n",
              "      <td>999.000000</td>\n",
              "      <td>1.000000e+00</td>\n",
              "      <td>0.000000</td>\n",
              "      <td>0</td>\n",
              "    </tr>\n",
              "    <tr>\n",
              "      <th>1</th>\n",
              "      <td>998.156030</td>\n",
              "      <td>1.441507e+00</td>\n",
              "      <td>0.402463</td>\n",
              "      <td>1</td>\n",
              "    </tr>\n",
              "    <tr>\n",
              "      <th>2</th>\n",
              "      <td>996.941129</td>\n",
              "      <td>2.076462e+00</td>\n",
              "      <td>0.982409</td>\n",
              "      <td>2</td>\n",
              "    </tr>\n",
              "    <tr>\n",
              "      <th>3</th>\n",
              "      <td>995.194582</td>\n",
              "      <td>2.988037e+00</td>\n",
              "      <td>1.817381</td>\n",
              "      <td>3</td>\n",
              "    </tr>\n",
              "    <tr>\n",
              "      <th>4</th>\n",
              "      <td>992.688507</td>\n",
              "      <td>4.293468e+00</td>\n",
              "      <td>3.018025</td>\n",
              "      <td>4</td>\n",
              "    </tr>\n",
              "    <tr>\n",
              "      <th>...</th>\n",
              "      <td>...</td>\n",
              "      <td>...</td>\n",
              "      <td>...</td>\n",
              "      <td>...</td>\n",
              "    </tr>\n",
              "    <tr>\n",
              "      <th>155</th>\n",
              "      <td>177.651263</td>\n",
              "      <td>5.995464e-11</td>\n",
              "      <td>822.348737</td>\n",
              "      <td>155</td>\n",
              "    </tr>\n",
              "    <tr>\n",
              "      <th>156</th>\n",
              "      <td>177.651263</td>\n",
              "      <td>-4.403165e-11</td>\n",
              "      <td>822.348737</td>\n",
              "      <td>156</td>\n",
              "    </tr>\n",
              "    <tr>\n",
              "      <th>157</th>\n",
              "      <td>177.651263</td>\n",
              "      <td>-1.357693e-10</td>\n",
              "      <td>822.348737</td>\n",
              "      <td>157</td>\n",
              "    </tr>\n",
              "    <tr>\n",
              "      <th>158</th>\n",
              "      <td>177.651263</td>\n",
              "      <td>-2.152582e-10</td>\n",
              "      <td>822.348737</td>\n",
              "      <td>158</td>\n",
              "    </tr>\n",
              "    <tr>\n",
              "      <th>159</th>\n",
              "      <td>177.651263</td>\n",
              "      <td>-2.824985e-10</td>\n",
              "      <td>822.348737</td>\n",
              "      <td>159</td>\n",
              "    </tr>\n",
              "  </tbody>\n",
              "</table>\n",
              "<p>160 rows × 4 columns</p>\n",
              "</div>"
            ],
            "text/plain": [
              "     suseptible      infected   recovered  day\n",
              "0    999.000000  1.000000e+00    0.000000    0\n",
              "1    998.156030  1.441507e+00    0.402463    1\n",
              "2    996.941129  2.076462e+00    0.982409    2\n",
              "3    995.194582  2.988037e+00    1.817381    3\n",
              "4    992.688507  4.293468e+00    3.018025    4\n",
              "..          ...           ...         ...  ...\n",
              "155  177.651263  5.995464e-11  822.348737  155\n",
              "156  177.651263 -4.403165e-11  822.348737  156\n",
              "157  177.651263 -1.357693e-10  822.348737  157\n",
              "158  177.651263 -2.152582e-10  822.348737  158\n",
              "159  177.651263 -2.824985e-10  822.348737  159\n",
              "\n",
              "[160 rows x 4 columns]"
            ]
          },
          "metadata": {
            "tags": []
          },
          "execution_count": 266
        }
      ]
    },
    {
      "cell_type": "markdown",
      "metadata": {
        "id": "hxFXQjQFGBKp",
        "colab_type": "text"
      },
      "source": [
        "## Question 1\n",
        "\n",
        "By default, the code above has an effective contact rate of 0.25 and a recovery rate of 0.1.\n",
        "\n",
        "* If the transmission rate is 50%, how many contacts does an infected person have each day?\n",
        "* How many days does it take to recover?"
      ]
    },
    {
      "cell_type": "code",
      "metadata": {
        "id": "k8KpfXEwGBKq",
        "colab_type": "code",
        "colab": {}
      },
      "source": [
        ""
      ],
      "execution_count": 0,
      "outputs": []
    },
    {
      "cell_type": "markdown",
      "metadata": {
        "id": "MMwuL4YnGBKs",
        "colab_type": "text"
      },
      "source": [
        "## Question 2\n",
        "\n",
        "In the default scenario, it looks like the curve flattens out before everyone gets the disease. Can you explain what is happening?"
      ]
    },
    {
      "cell_type": "code",
      "metadata": {
        "id": "rKQbJBbVGBKt",
        "colab_type": "code",
        "colab": {}
      },
      "source": [
        ""
      ],
      "execution_count": 0,
      "outputs": []
    },
    {
      "cell_type": "markdown",
      "metadata": {
        "id": "oC6Zh5ILGBKv",
        "colab_type": "text"
      },
      "source": [
        "## Question 3\n",
        "\n",
        "**Run the code above**, with a population of 1000 people, 1 infected, and 0 recovered. Use an effective contact rate of 0.15 and a recovery rate of 3 weeks.\n",
        "\n",
        "What is the maximum number of people sick at one time?"
      ]
    },
    {
      "cell_type": "code",
      "metadata": {
        "id": "kNJQTbPfGBKw",
        "colab_type": "code",
        "colab": {}
      },
      "source": [
        ""
      ],
      "execution_count": 0,
      "outputs": []
    },
    {
      "cell_type": "markdown",
      "metadata": {
        "id": "cUqULbMlGBKy",
        "colab_type": "text"
      },
      "source": [
        "If there is a 1.5% case fatality rate, roughly how many people died after 160 days?"
      ]
    },
    {
      "cell_type": "code",
      "metadata": {
        "id": "p9bIXpn2GBKz",
        "colab_type": "code",
        "colab": {}
      },
      "source": [
        ""
      ],
      "execution_count": 0,
      "outputs": []
    },
    {
      "cell_type": "markdown",
      "metadata": {
        "id": "bUeS-NVPGBK1",
        "colab_type": "text"
      },
      "source": [
        "## Question 4\n",
        "\n",
        "**Re-run the code with the settings above**, but use a population of 100,000 people.\n",
        "\n",
        "What changes (or doesn't change) about the graph?"
      ]
    },
    {
      "cell_type": "code",
      "metadata": {
        "id": "Bcjz3jWyGBK1",
        "colab_type": "code",
        "colab": {}
      },
      "source": [
        ""
      ],
      "execution_count": 0,
      "outputs": []
    },
    {
      "cell_type": "markdown",
      "metadata": {
        "id": "b0n-8rZ5GBK4",
        "colab_type": "text"
      },
      "source": [
        "Many people would find the result surprising - explain why it looks like it does."
      ]
    },
    {
      "cell_type": "code",
      "metadata": {
        "id": "5X2hOG5JGBK4",
        "colab_type": "code",
        "colab": {}
      },
      "source": [
        ""
      ],
      "execution_count": 0,
      "outputs": []
    },
    {
      "cell_type": "markdown",
      "metadata": {
        "id": "CqHzkKgsGBK6",
        "colab_type": "text"
      },
      "source": [
        "## Question 5"
      ]
    },
    {
      "cell_type": "markdown",
      "metadata": {
        "id": "Olb-oeA-GBK7",
        "colab_type": "text"
      },
      "source": [
        "What happens to your infected population over time when you have an R0 of 1.0? **Use the notes for this, don't run a simulation.**"
      ]
    },
    {
      "cell_type": "code",
      "metadata": {
        "id": "UCrSrm7NGBK7",
        "colab_type": "code",
        "colab": {}
      },
      "source": [
        ""
      ],
      "execution_count": 0,
      "outputs": []
    },
    {
      "cell_type": "markdown",
      "metadata": {
        "id": "D-fbJTzdGBK9",
        "colab_type": "text"
      },
      "source": [
        "Now change your simulation: start with a population of 1000, where 200 are infected. Change your effective contact rate and recovery rate until you get an R0 of around 1.0.\n",
        "\n",
        "What happens to your graph? I'm guessing it doesn't match what you predicted: why not?"
      ]
    },
    {
      "cell_type": "code",
      "metadata": {
        "id": "4IN98tTqGBK9",
        "colab_type": "code",
        "colab": {}
      },
      "source": [
        ""
      ],
      "execution_count": 0,
      "outputs": []
    },
    {
      "cell_type": "markdown",
      "metadata": {
        "id": "mOUFu-3xGBLA",
        "colab_type": "text"
      },
      "source": [
        "## Question 6\n",
        "\n",
        "If you were using this to model something like measles or the flu, you'd need to take into account immunization.\n",
        "\n",
        "Can our SIR model use this information  without major changes, or do we need to find a new model?"
      ]
    },
    {
      "cell_type": "code",
      "metadata": {
        "id": "qo5E-8kIGBLA",
        "colab_type": "code",
        "colab": {}
      },
      "source": [
        ""
      ],
      "execution_count": 0,
      "outputs": []
    },
    {
      "cell_type": "markdown",
      "metadata": {
        "id": "HP6ScrklGBLD",
        "colab_type": "text"
      },
      "source": [
        "## Question 7\n",
        "\n",
        "The chart below contains case fatality rates by age, along with the percent of the population  that is in each age bracket.\n",
        "\n",
        "|age|case fatality rate|percent of population|\n",
        "|---|---|---|\n",
        "|80+ years old|14.8%|3.6%|\n",
        "|70-79 years old|8.0%|6.3%|\n",
        "|60-69 years old|3.6%|11.2%|\n",
        "|50-59 years old|1.3%|12.7%|\n",
        "|below 50|0.2%|66.2m|\n",
        "\n",
        "Let's say we're interested in using our model to predict how many people die from a disease. \n",
        "\n",
        "Can our SIR model use this information without major changes, or do we need to find a new model?"
      ]
    },
    {
      "cell_type": "code",
      "metadata": {
        "id": "LoiLAphsGBLE",
        "colab_type": "code",
        "colab": {}
      },
      "source": [
        ""
      ],
      "execution_count": 0,
      "outputs": []
    },
    {
      "cell_type": "markdown",
      "metadata": {
        "id": "Uh4U0aeMGBLG",
        "colab_type": "text"
      },
      "source": [
        "### Question 8\n",
        "\n",
        "It has been said that children are more effective spreaders of disease, in that going to school helps them have a much contact rate (and thus a higher effective contact rate). Take the following breakdown as an example:\n",
        "\n",
        "|age bracket|contact rate|percent of population|\n",
        "|---|---|---|\n",
        "|under 18|20.5|24.1%|\n",
        "|18 and over|13.2|75.9%|\n",
        "\n",
        "Can our SIR model use this information without major changes, or do we need to find a new model?"
      ]
    },
    {
      "cell_type": "code",
      "metadata": {
        "id": "_U7mQMP3GBLH",
        "colab_type": "code",
        "colab": {}
      },
      "source": [
        ""
      ],
      "execution_count": 0,
      "outputs": []
    },
    {
      "cell_type": "markdown",
      "metadata": {
        "id": "KeGMYxF1GBLJ",
        "colab_type": "text"
      },
      "source": [
        "# Bonus: Flattening the curve\n",
        "\n",
        "Now we're going to graph **two charts** instead of just one."
      ]
    },
    {
      "cell_type": "code",
      "metadata": {
        "id": "7bR7It-zGBLK",
        "colab_type": "code",
        "colab": {}
      },
      "source": [
        "def adjust_rate(contact_rate, day):\n",
        "    if day > 0:\n",
        "        return contact_rate\n",
        "    else:\n",
        "        return contact_rate\n",
        "\n",
        "# The SIR model differential equations.\n",
        "def deriv_adjusted(state, t, N, beta, gamma):\n",
        "    S, I, R = state\n",
        "    \n",
        "    beta = adjust_rate(beta, t)\n",
        "    # Change in S population over time\n",
        "    dSdt = -beta * S * I / N\n",
        "    # Change in I population over time\n",
        "    dIdt = beta * S * I / N - gamma * I\n",
        "    # Change in R population over time\n",
        "    dRdt = gamma * I\n",
        "    return dSdt, dIdt, dRdt"
      ],
      "execution_count": 0,
      "outputs": []
    },
    {
      "cell_type": "code",
      "metadata": {
        "id": "Vbul8B0AGBLM",
        "colab_type": "code",
        "outputId": "831db27e-1cc7-4ab8-c08e-55aa3666cd31",
        "colab": {}
      },
      "source": [
        "effective_contact_rate = 0.2\n",
        "recovery_rate = 1/14\n",
        "\n",
        "# We'll compute this for fun\n",
        "print(\"R0 is\", effective_contact_rate / recovery_rate)\n",
        "\n",
        "# What's our start population look like?\n",
        "# Everyone not infected or recovered is susceptible\n",
        "total_pop = 1000\n",
        "recovered = 0\n",
        "infected = 1\n",
        "susceptible = total_pop - infected - recovered\n",
        "\n",
        "# A list of days\n",
        "days = range(0, 200)\n",
        "\n",
        "# First do it with our original derivation...\n",
        "ret = odeint(deriv,\n",
        "             [susceptible, infected, recovered],\n",
        "             days,\n",
        "             args=(total_pop, effective_contact_rate, recovery_rate))\n",
        "S, I, R = ret.T\n",
        "\n",
        "# ...then do it again with the adjusted one.\n",
        "ret = odeint(deriv_adjusted,\n",
        "             [susceptible, infected, recovered],\n",
        "             days,\n",
        "             args=(total_pop, effective_contact_rate, recovery_rate))\n",
        "S_adj, I_adj, R_adj = ret.T\n",
        "\n",
        "# Build a dataframe because why not\n",
        "df = pd.DataFrame({\n",
        "    'infected': I,\n",
        "    'infected_lockdown': I_adj,\n",
        "    'day': days\n",
        "})\n",
        "\n",
        "plt.style.use('ggplot')\n",
        "df.plot(x='day',\n",
        "        y=['infected', 'infected_lockdown'])\n",
        "\n",
        "# If you get the error:\n",
        "#\n",
        "#     When stacked is True, each column must be either all\n",
        "#     positive or negative.infected contains both...\n",
        "#\n",
        "# just change stacked=True to stacked=False"
      ],
      "execution_count": 0,
      "outputs": [
        {
          "output_type": "stream",
          "text": [
            "R0 is 2.8000000000000003\n"
          ],
          "name": "stdout"
        },
        {
          "output_type": "execute_result",
          "data": {
            "text/plain": [
              "<matplotlib.axes._subplots.AxesSubplot at 0x132778240>"
            ]
          },
          "metadata": {
            "tags": []
          },
          "execution_count": 270
        },
        {
          "output_type": "display_data",
          "data": {
            "image/png": "[encoded data removed]",
            "text/plain": [
              "<Figure size 432x288 with 1 Axes>"
            ]
          },
          "metadata": {
            "tags": []
          }
        }
      ]
    },
    {
      "cell_type": "markdown",
      "metadata": {
        "id": "CoFqRg0lGBLO",
        "colab_type": "text"
      },
      "source": [
        "Before we used `deriv` to make our calculations, which just used the normal contact rate we gave it.\n",
        "\n",
        "This time we've made a new one: `deriv_adjusted`, which uses the `adjust_rate` function to change the contact rate over time.\n",
        "\n",
        "Right now `adjust_rate` returns the same contact rate, **no matter what day it is**. See if you can flatten the curve by adjusting the contact rate after a month or so of unchecked spread!\n",
        "\n",
        "> Note: Don't invent a new `contact_rate`, just multiply it or something!"
      ]
    },
    {
      "cell_type": "markdown",
      "metadata": {
        "id": "Y-e_iuhyGBLP",
        "colab_type": "text"
      },
      "source": [
        "## Question\n",
        "\n",
        "Aren't you impressed with how easy it is to flatten the curve?????? I know I was!"
      ]
    },
    {
      "cell_type": "code",
      "metadata": {
        "id": "oiAkGTzpGBLP",
        "colab_type": "code",
        "colab": {}
      },
      "source": [
        ""
      ],
      "execution_count": 0,
      "outputs": []
    }
  ]
}